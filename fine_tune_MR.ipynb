{
 "cells": [
  {
   "cell_type": "code",
   "execution_count": 21,
   "metadata": {},
   "outputs": [],
   "source": [
    "from sentence_transformers import SentenceTransformer,InputExample,losses,evaluation,util\n",
    "import pandas as pd\n",
    "import numpy as np\n",
    "from torch.utils.data import DataLoader\n",
    "from tqdm import tqdm\n",
    "from sklearn.model_selection import train_test_split"
   ]
  },
  {
   "cell_type": "code",
   "execution_count": 22,
   "metadata": {},
   "outputs": [],
   "source": [
    "model_name = 'nli-distilroberta-base-v2'\n",
    "data_dir = 'data/rt-polaritydata/'\n",
    "device = 'cuda'"
   ]
  },
  {
   "cell_type": "code",
   "execution_count": 23,
   "metadata": {},
   "outputs": [
    {
     "data": {
      "text/plain": [
       "SentenceTransformer(\n",
       "  (0): Transformer({'max_seq_length': 75, 'do_lower_case': False}) with Transformer model: RobertaModel \n",
       "  (1): Pooling({'word_embedding_dimension': 768, 'pooling_mode_cls_token': False, 'pooling_mode_mean_tokens': True, 'pooling_mode_max_tokens': False, 'pooling_mode_mean_sqrt_len_tokens': False})\n",
       ")"
      ]
     },
     "execution_count": 23,
     "metadata": {},
     "output_type": "execute_result"
    }
   ],
   "source": [
    "model = SentenceTransformer(model_name)\n",
    "model"
   ]
  },
  {
   "cell_type": "code",
   "execution_count": 24,
   "metadata": {},
   "outputs": [
    {
     "name": "stdout",
     "output_type": "stream",
     "text": [
      "5331 5331\n",
      "3554 1777 3554 1777\n"
     ]
    }
   ],
   "source": [
    "pos = []\n",
    "with open(data_dir + 'pos.txt','r',encoding='latin-1') as f:\n",
    "    for line in f:\n",
    "        pos.append(line.strip())\n",
    "neg = []\n",
    "with open(data_dir + 'neg.txt','r',encoding='latin-1') as f:\n",
    "    for line in f:\n",
    "        neg.append(line.strip())\n",
    "print(len(pos),len(neg))\n",
    "train_pos,test_pos = train_test_split(pos,test_size=0.33333,random_state=42)\n",
    "train_neg,test_neg = train_test_split(neg,test_size=0.33333,random_state=42)\n",
    "print(len(train_pos),len(test_pos),len(train_neg),len(test_neg))"
   ]
  },
  {
   "cell_type": "code",
   "execution_count": 25,
   "metadata": {},
   "outputs": [
    {
     "name": "stderr",
     "output_type": "stream",
     "text": [
      "100%|██████████| 3554/3554 [00:38<00:00, 92.11it/s] \n",
      "100%|██████████| 3554/3554 [00:21<00:00, 164.61it/s]\n",
      "100%|██████████| 3554/3554 [00:04<00:00, 769.08it/s] \n"
     ]
    }
   ],
   "source": [
    "train_examples = []\n",
    "for i in tqdm(range(len(train_pos))):\n",
    "    for j in range(len(train_neg)):\n",
    "        train_examples.append(InputExample(texts=[pos[i],neg[j]],label=0.))\n",
    "for i in tqdm(range(len(train_pos))):\n",
    "    for j in range(i+1,len(train_pos)):\n",
    "            train_examples.append(InputExample(texts=[pos[i],pos[j]],label=1.))\n",
    "for i in tqdm(range(len(train_neg))):\n",
    "    for j in range(i+1,len(train_neg)):\n",
    "            train_examples.append(InputExample(texts=[neg[i],neg[j]],label=1.))"
   ]
  },
  {
   "cell_type": "code",
   "execution_count": 26,
   "metadata": {},
   "outputs": [
    {
     "name": "stderr",
     "output_type": "stream",
     "text": [
      "100%|██████████| 1777/1777 [00:02<00:00, 771.80it/s]\n",
      "100%|██████████| 1777/1777 [00:01<00:00, 1555.97it/s]\n",
      "100%|██████████| 1777/1777 [00:19<00:00, 90.38it/s]\n"
     ]
    }
   ],
   "source": [
    "test_examples = []\n",
    "for i in tqdm(range(len(test_pos))):\n",
    "    for j in range(len(test_neg)):\n",
    "        test_examples.append(InputExample(texts=[pos[i],neg[j]],label=0.))\n",
    "for i in tqdm(range(len(test_pos))):\n",
    "    for j in range(i+1,len(test_pos)):\n",
    "        test_examples.append(InputExample(texts=[pos[i],pos[j]],label=1.))\n",
    "for i in tqdm(range(len(test_neg))):\n",
    "    for j in range(i+1,len(test_neg)):\n",
    "        test_examples.append(InputExample(texts=[neg[i],neg[j]],label=1.))"
   ]
  },
  {
   "cell_type": "code",
   "execution_count": 27,
   "metadata": {},
   "outputs": [
    {
     "name": "stdout",
     "output_type": "stream",
     "text": [
      "25258278 6313681\n"
     ]
    }
   ],
   "source": [
    "print(len(train_examples),len(test_examples))"
   ]
  },
  {
   "cell_type": "markdown",
   "metadata": {},
   "source": [
    "Computing the cosine similarities before fine tuning (using the pretrained model)"
   ]
  },
  {
   "cell_type": "code",
   "execution_count": 28,
   "metadata": {},
   "outputs": [
    {
     "data": {
      "application/vnd.jupyter.widget-view+json": {
       "model_id": "dec1c36530914e48be0cd0fd97797ef9",
       "version_major": 2,
       "version_minor": 0
      },
      "text/plain": [
       "HBox(children=(FloatProgress(value=0.0, description='Batches', max=56.0, style=ProgressStyle(description_width…"
      ]
     },
     "metadata": {},
     "output_type": "display_data"
    },
    {
     "name": "stdout",
     "output_type": "stream",
     "text": [
      "\n"
     ]
    },
    {
     "data": {
      "application/vnd.jupyter.widget-view+json": {
       "model_id": "0881c12af3764a34b967e87d1d37b51c",
       "version_major": 2,
       "version_minor": 0
      },
      "text/plain": [
       "HBox(children=(FloatProgress(value=0.0, description='Batches', max=56.0, style=ProgressStyle(description_width…"
      ]
     },
     "metadata": {},
     "output_type": "display_data"
    },
    {
     "name": "stdout",
     "output_type": "stream",
     "text": [
      "\n"
     ]
    }
   ],
   "source": [
    "test_pos_embeddings = model.encode(test_pos,show_progress_bar=True,convert_to_tensor=True)\n",
    "test_neg_embeddings = model.encode(test_neg,show_progress_bar=True,convert_to_tensor=True)"
   ]
  },
  {
   "cell_type": "code",
   "execution_count": 29,
   "metadata": {},
   "outputs": [
    {
     "name": "stdout",
     "output_type": "stream",
     "text": [
      "Test Pos-Pos Similarity 0.29552466\n",
      "Test Pos-Neg Similarity 0.25853947\n",
      "Test Neg-Neg Similarity 0.28099316\n"
     ]
    }
   ],
   "source": [
    "cosine_scores = util.cos_sim(test_pos_embeddings,test_pos_embeddings).cpu().numpy()\n",
    "print(\"Test Pos-Pos Similarity\",np.mean(cosine_scores))\n",
    "cosine_scores = util.cos_sim(test_pos_embeddings,test_neg_embeddings).cpu().numpy()\n",
    "print(\"Test Pos-Neg Similarity\",np.mean(cosine_scores))\n",
    "cosine_scores = util.cos_sim(test_neg_embeddings,test_neg_embeddings).cpu().numpy()\n",
    "print(\"Test Neg-Neg Similarity\",np.mean(cosine_scores))"
   ]
  },
  {
   "cell_type": "code",
   "execution_count": 30,
   "metadata": {},
   "outputs": [
    {
     "data": {
      "application/vnd.jupyter.widget-view+json": {
       "model_id": "c8a8604249944a26b1ad570efb0bca2c",
       "version_major": 2,
       "version_minor": 0
      },
      "text/plain": [
       "HBox(children=(FloatProgress(value=0.0, description='Batches', max=112.0, style=ProgressStyle(description_widt…"
      ]
     },
     "metadata": {},
     "output_type": "display_data"
    },
    {
     "name": "stdout",
     "output_type": "stream",
     "text": [
      "\n"
     ]
    },
    {
     "data": {
      "application/vnd.jupyter.widget-view+json": {
       "model_id": "07c5bb825225485b953ff80d29033e0a",
       "version_major": 2,
       "version_minor": 0
      },
      "text/plain": [
       "HBox(children=(FloatProgress(value=0.0, description='Batches', max=112.0, style=ProgressStyle(description_widt…"
      ]
     },
     "metadata": {},
     "output_type": "display_data"
    },
    {
     "name": "stdout",
     "output_type": "stream",
     "text": [
      "\n"
     ]
    }
   ],
   "source": [
    "train_pos_embeddings = model.encode(train_pos,show_progress_bar=True,convert_to_tensor=True)\n",
    "train_neg_embeddings = model.encode(train_neg,show_progress_bar=True,convert_to_tensor=True)"
   ]
  },
  {
   "cell_type": "code",
   "execution_count": 31,
   "metadata": {},
   "outputs": [
    {
     "name": "stdout",
     "output_type": "stream",
     "text": [
      "Train Pos-Pos Similarity 0.29575583\n",
      "Train Pos-Neg Similarity 0.2550434\n",
      "Train Neg-Neg Similarity 0.2744917\n"
     ]
    }
   ],
   "source": [
    "cosine_scores = util.cos_sim(train_pos_embeddings,train_pos_embeddings).cpu().numpy()\n",
    "print(\"Train Pos-Pos Similarity\",np.mean(cosine_scores))\n",
    "cosine_scores = util.cos_sim(train_pos_embeddings,train_neg_embeddings).cpu().numpy()\n",
    "print(\"Train Pos-Neg Similarity\",np.mean(cosine_scores))\n",
    "cosine_scores = util.cos_sim(train_neg_embeddings,train_neg_embeddings).cpu().numpy()\n",
    "print(\"Train Neg-Neg Similarity\",np.mean(cosine_scores))"
   ]
  },
  {
   "cell_type": "code",
   "execution_count": 32,
   "metadata": {},
   "outputs": [],
   "source": [
    "train_dataloader = DataLoader(train_examples,shuffle=True,batch_size=64)\n",
    "train_loss = losses.CosineSimilarityLoss(model=model)\n",
    "evaluator = evaluation.EmbeddingSimilarityEvaluator.from_input_examples(test_examples,show_progress_bar=True)"
   ]
  },
  {
   "cell_type": "code",
   "execution_count": 33,
   "metadata": {},
   "outputs": [],
   "source": [
    "model = model.to(device)"
   ]
  },
  {
   "cell_type": "markdown",
   "metadata": {},
   "source": [
    "Uncomment the following block to run fine-tuning on MR dataset"
   ]
  },
  {
   "cell_type": "code",
   "execution_count": 34,
   "metadata": {},
   "outputs": [],
   "source": [
    "# model.fit(train_objectives=[(train_dataloader, train_loss)],\n",
    "#           evaluator=evaluator,\n",
    "#           epochs=20,\n",
    "#           evaluation_steps=100000,\n",
    "#           warmup_steps=100,\n",
    "#           output_path='model'\n",
    "#           )"
   ]
  },
  {
   "cell_type": "code",
   "execution_count": 35,
   "metadata": {},
   "outputs": [
    {
     "name": "stderr",
     "output_type": "stream",
     "text": [
      "Special tokens have been added in the vocabulary, make sure the associated word embeddings are fine-tuned or trained.\n"
     ]
    },
    {
     "data": {
      "text/plain": [
       "SentenceTransformer(\n",
       "  (0): Transformer({'max_seq_length': 75, 'do_lower_case': False}) with Transformer model: RobertaModel \n",
       "  (1): Pooling({'word_embedding_dimension': 768, 'pooling_mode_cls_token': False, 'pooling_mode_mean_tokens': True, 'pooling_mode_max_tokens': False, 'pooling_mode_mean_sqrt_len_tokens': False})\n",
       ")"
      ]
     },
     "execution_count": 35,
     "metadata": {},
     "output_type": "execute_result"
    }
   ],
   "source": [
    "model = SentenceTransformer('./model/')\n",
    "model.to(device)"
   ]
  },
  {
   "cell_type": "markdown",
   "metadata": {},
   "source": [
    "Computing cosine similarities after fine tuning"
   ]
  },
  {
   "cell_type": "code",
   "execution_count": 36,
   "metadata": {},
   "outputs": [
    {
     "data": {
      "application/vnd.jupyter.widget-view+json": {
       "model_id": "0a8db4b15f7042118015741dbc65e6a1",
       "version_major": 2,
       "version_minor": 0
      },
      "text/plain": [
       "HBox(children=(FloatProgress(value=0.0, description='Batches', max=56.0, style=ProgressStyle(description_width…"
      ]
     },
     "metadata": {},
     "output_type": "display_data"
    },
    {
     "name": "stdout",
     "output_type": "stream",
     "text": [
      "\n"
     ]
    },
    {
     "data": {
      "application/vnd.jupyter.widget-view+json": {
       "model_id": "b552c8f74a8d44baa5103dd06adffddf",
       "version_major": 2,
       "version_minor": 0
      },
      "text/plain": [
       "HBox(children=(FloatProgress(value=0.0, description='Batches', max=56.0, style=ProgressStyle(description_width…"
      ]
     },
     "metadata": {},
     "output_type": "display_data"
    },
    {
     "name": "stdout",
     "output_type": "stream",
     "text": [
      "\n"
     ]
    }
   ],
   "source": [
    "test_pos_embeddings = model.encode(test_pos,show_progress_bar=True,convert_to_tensor=True)\n",
    "test_neg_embeddings = model.encode(test_neg,show_progress_bar=True,convert_to_tensor=True)"
   ]
  },
  {
   "cell_type": "code",
   "execution_count": 37,
   "metadata": {},
   "outputs": [
    {
     "name": "stdout",
     "output_type": "stream",
     "text": [
      "Test Pos-Pos Similarity 0.9077267\n",
      "Test Pos-Neg Similarity 0.090817936\n",
      "Test Neg-Neg Similarity 0.89808726\n"
     ]
    }
   ],
   "source": [
    "cosine_scores = util.cos_sim(test_pos_embeddings,test_pos_embeddings).cpu().numpy()\n",
    "print(\"Test Pos-Pos Similarity\",np.mean(cosine_scores))\n",
    "cosine_scores = util.cos_sim(test_pos_embeddings,test_neg_embeddings).cpu().numpy()\n",
    "print(\"Test Pos-Neg Similarity\",np.mean(cosine_scores))\n",
    "cosine_scores = util.cos_sim(test_neg_embeddings,test_neg_embeddings).cpu().numpy()\n",
    "print(\"Test Neg-Neg Similarity\",np.mean(cosine_scores))"
   ]
  },
  {
   "cell_type": "code",
   "execution_count": 38,
   "metadata": {},
   "outputs": [
    {
     "data": {
      "application/vnd.jupyter.widget-view+json": {
       "model_id": "6c28c0cb47204ac6bbf301fba2ccbb97",
       "version_major": 2,
       "version_minor": 0
      },
      "text/plain": [
       "HBox(children=(FloatProgress(value=0.0, description='Batches', max=112.0, style=ProgressStyle(description_widt…"
      ]
     },
     "metadata": {},
     "output_type": "display_data"
    },
    {
     "name": "stdout",
     "output_type": "stream",
     "text": [
      "\n"
     ]
    },
    {
     "data": {
      "application/vnd.jupyter.widget-view+json": {
       "model_id": "55a1ebc11e904494bfed4582343ca27c",
       "version_major": 2,
       "version_minor": 0
      },
      "text/plain": [
       "HBox(children=(FloatProgress(value=0.0, description='Batches', max=112.0, style=ProgressStyle(description_widt…"
      ]
     },
     "metadata": {},
     "output_type": "display_data"
    },
    {
     "name": "stdout",
     "output_type": "stream",
     "text": [
      "\n"
     ]
    }
   ],
   "source": [
    "train_pos_embeddings = model.encode(train_pos,show_progress_bar=True,convert_to_tensor=True)\n",
    "train_neg_embeddings = model.encode(train_neg,show_progress_bar=True,convert_to_tensor=True)"
   ]
  },
  {
   "cell_type": "code",
   "execution_count": 39,
   "metadata": {},
   "outputs": [
    {
     "name": "stdout",
     "output_type": "stream",
     "text": [
      "Train Pos-Pos Similarity 0.9011581\n",
      "Train Pos-Neg Similarity 0.08809084\n",
      "Train Neg-Neg Similarity 0.91211754\n"
     ]
    }
   ],
   "source": [
    "cosine_scores = util.cos_sim(train_pos_embeddings,train_pos_embeddings).cpu().numpy()\n",
    "print(\"Train Pos-Pos Similarity\",np.mean(cosine_scores))\n",
    "cosine_scores = util.cos_sim(train_pos_embeddings,train_neg_embeddings).cpu().numpy()\n",
    "print(\"Train Pos-Neg Similarity\",np.mean(cosine_scores))\n",
    "cosine_scores = util.cos_sim(train_neg_embeddings,train_neg_embeddings).cpu().numpy()\n",
    "print(\"Train Neg-Neg Similarity\",np.mean(cosine_scores))"
   ]
  }
 ],
 "metadata": {
  "kernelspec": {
   "display_name": "sbert",
   "language": "python",
   "name": "python3"
  },
  "language_info": {
   "codemirror_mode": {
    "name": "ipython",
    "version": 3
   },
   "file_extension": ".py",
   "mimetype": "text/x-python",
   "name": "python",
   "nbconvert_exporter": "python",
   "pygments_lexer": "ipython3",
   "version": "3.8.10"
  }
 },
 "nbformat": 4,
 "nbformat_minor": 2
}
